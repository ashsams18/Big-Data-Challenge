{
  "nbformat": 4,
  "nbformat_minor": 0,
  "metadata": {
    "colab": {
      "name": "DataSet2.ipynb",
      "provenance": [],
      "collapsed_sections": []
    },
    "kernelspec": {
      "name": "python3",
      "display_name": "Python 3"
    },
    "language_info": {
      "name": "python"
    }
  },
  "cells": [
    {
      "cell_type": "code",
      "execution_count": 21,
      "metadata": {
        "id": "6KEYO233IhKv",
        "colab": {
          "base_uri": "https://localhost:8080/"
        },
        "outputId": "c623a603-cc31-4348-b21e-bf875c6aa9f9"
      },
      "outputs": [
        {
          "output_type": "stream",
          "name": "stdout",
          "text": [
            "\r0% [Working]\r            \rHit:1 https://cloud.r-project.org/bin/linux/ubuntu bionic-cran40/ InRelease\n",
            "Ign:2 https://developer.download.nvidia.com/compute/cuda/repos/ubuntu1804/x86_64  InRelease\n",
            "Ign:3 https://developer.download.nvidia.com/compute/machine-learning/repos/ubuntu1804/x86_64  InRelease\n",
            "Hit:4 https://developer.download.nvidia.com/compute/cuda/repos/ubuntu1804/x86_64  Release\n",
            "Hit:5 https://developer.download.nvidia.com/compute/machine-learning/repos/ubuntu1804/x86_64  Release\n",
            "Hit:6 http://security.ubuntu.com/ubuntu bionic-security InRelease\n",
            "Hit:8 http://ppa.launchpad.net/c2d4u.team/c2d4u4.0+/ubuntu bionic InRelease\n",
            "Hit:9 http://archive.ubuntu.com/ubuntu bionic InRelease\n",
            "Hit:11 http://archive.ubuntu.com/ubuntu bionic-updates InRelease\n",
            "Hit:12 http://ppa.launchpad.net/cran/libgit2/ubuntu bionic InRelease\n",
            "Hit:13 http://archive.ubuntu.com/ubuntu bionic-backports InRelease\n",
            "Hit:14 http://ppa.launchpad.net/deadsnakes/ppa/ubuntu bionic InRelease\n",
            "Hit:15 http://ppa.launchpad.net/graphics-drivers/ppa/ubuntu bionic InRelease\n",
            "Reading package lists... Done\n"
          ]
        }
      ],
      "source": [
        "import os\n",
        "# Find the latest version of spark 3.0  from http://www.apache.org/dist/spark/ and enter as the spark version\n",
        "spark_version = 'spark-3.2.0'\n",
        "os.environ['SPARK_VERSION']=spark_version\n",
        "\n",
        "# Install Spark and Java\n",
        "!apt-get update\n",
        "!apt-get install openjdk-8-jdk-headless -qq > /dev/null\n",
        "!wget -q http://www.apache.org/dist/spark/$SPARK_VERSION/$SPARK_VERSION-bin-hadoop2.7.tgz\n",
        "!tar xf $SPARK_VERSION-bin-hadoop2.7.tgz\n",
        "!pip install -q findspark\n",
        "\n",
        "# Set Environment Variables\n",
        "os.environ[\"JAVA_HOME\"] = \"/usr/lib/jvm/java-8-openjdk-amd64\"\n",
        "os.environ[\"SPARK_HOME\"] = f\"/content/{spark_version}-bin-hadoop2.7\"\n",
        "\n",
        "# Start a SparkSession\n",
        "import findspark\n",
        "findspark.init()"
      ]
    },
    {
      "cell_type": "code",
      "source": [
        "# connection to Postgres \n",
        "!wget https://jdbc.postgresql.org/download/postgresql-42.2.9.jar"
      ],
      "metadata": {
        "id": "e7ccblH6M7xV",
        "colab": {
          "base_uri": "https://localhost:8080/"
        },
        "outputId": "34eabae3-e3f7-4ad2-9632-4f4bc5becaec"
      },
      "execution_count": 22,
      "outputs": [
        {
          "output_type": "stream",
          "name": "stdout",
          "text": [
            "--2021-12-26 08:06:37--  https://jdbc.postgresql.org/download/postgresql-42.2.9.jar\n",
            "Resolving jdbc.postgresql.org (jdbc.postgresql.org)... 72.32.157.228, 2001:4800:3e1:1::228\n",
            "Connecting to jdbc.postgresql.org (jdbc.postgresql.org)|72.32.157.228|:443... connected.\n",
            "HTTP request sent, awaiting response... 200 OK\n",
            "Length: 914037 (893K) [application/java-archive]\n",
            "Saving to: ‘postgresql-42.2.9.jar.1’\n",
            "\n",
            "postgresql-42.2.9.j 100%[===================>] 892.61K  1.31MB/s    in 0.7s    \n",
            "\n",
            "2021-12-26 08:06:39 (1.31 MB/s) - ‘postgresql-42.2.9.jar.1’ saved [914037/914037]\n",
            "\n"
          ]
        }
      ]
    },
    {
      "cell_type": "code",
      "source": [
        "from pyspark.ml.feature import RegexTokenizer, Tokenizer\n",
        "from pyspark.sql import functions as F\n",
        "from pyspark.sql.functions import col, udf\n",
        "from pyspark.sql.types import IntegerType"
      ],
      "metadata": {
        "id": "MXCmCWytN1X8"
      },
      "execution_count": 23,
      "outputs": []
    },
    {
      "cell_type": "code",
      "source": [
        "from pyspark.sql import SparkSession\n",
        "spark = SparkSession.builder.appName(\"CloudETL\").config(\"spark.driver.extraClassPath\",\"/content/postgresql-42.2.9.jar\").getOrCreate()"
      ],
      "metadata": {
        "id": "kwihJThyNOUd"
      },
      "execution_count": 24,
      "outputs": []
    },
    {
      "cell_type": "code",
      "source": [
        "# Read in data from S3 Buckets\n",
        "from pyspark import SparkFiles\n",
        "url =\"https://s3.amazonaws.com/amazon-reviews-pds/tsv/amazon_reviews_us_Gift_Card_v1_00.tsv.gz\"\n",
        "spark.sparkContext.addFile(url)\n",
        "df = spark.read.csv(SparkFiles.get(\"amazon_reviews_us_Gift_Card_v1_00.tsv.gz\"), sep=\"\\t\", header=True)\n",
        "\n",
        "# Show DataFrame\n",
        "df.show(truncate=False)"
      ],
      "metadata": {
        "id": "XLl340MBOvcs",
        "colab": {
          "base_uri": "https://localhost:8080/"
        },
        "outputId": "7ed0f7ad-8bc3-4fbe-84f4-62bd65e0af8c"
      },
      "execution_count": 25,
      "outputs": [
        {
          "output_type": "stream",
          "name": "stdout",
          "text": [
            "+-----------+-----------+--------------+----------+--------------+----------------------------------------------------------------------------+----------------+-----------+-------------+-----------+----+-----------------+----------------------------------------------------+-------------------------------------------------------------------------------------------------------+-----------+\n",
            "|marketplace|customer_id|review_id     |product_id|product_parent|product_title                                                               |product_category|star_rating|helpful_votes|total_votes|vine|verified_purchase|review_headline                                     |review_body                                                                                            |review_date|\n",
            "+-----------+-----------+--------------+----------+--------------+----------------------------------------------------------------------------+----------------+-----------+-------------+-----------+----+-----------------+----------------------------------------------------+-------------------------------------------------------------------------------------------------------+-----------+\n",
            "|US         |24371595   |R27ZP1F1CD0C3Y|B004LLIL5A|346014806     |Amazon eGift Card - Celebrate                                               |Gift Card       |5          |0            |0          |N   |Y                |Five Stars                                          |Great birthday gift for a young adult.                                                                 |2015-08-31 |\n",
            "|US         |42489718   |RJ7RSBCHUDNNE |B004LLIKVU|473048287     |Amazon.com eGift Cards                                                      |Gift Card       |5          |0            |0          |N   |Y                |Gift card for the greatest selection of items online|It's an Amazon gift card and with over 982398324908 items I am sure you will find something you love.  |2015-08-31 |\n",
            "|US         |861463     |R1HVYBSKLQJI5S|B00IX1I3G6|926539283     |Amazon.com Gift Card Balance Reload                                         |Gift Card       |5          |0            |0          |N   |Y                |Five Stars                                          |Good                                                                                                   |2015-08-31 |\n",
            "|US         |25283295   |R2HAXF0IIYQBIR|B00IX1I3G6|926539283     |Amazon.com Gift Card Balance Reload                                         |Gift Card       |1          |0            |0          |N   |Y                |One Star                                            |Fair                                                                                                   |2015-08-31 |\n",
            "|US         |397970     |RNYLPX611NB7Q |B005ESMGV4|379368939     |Amazon.com Gift Cards, Pack of 3 (Various Designs)                          |Gift Card       |5          |0            |0          |N   |Y                |Five Stars                                          |I can't believe how quickly Amazon can get these into my hands!!  Thank you!                           |2015-08-31 |\n",
            "|US         |18513645   |R3ALA9XXMBEDZR|B004KNWWU4|326384774     |Amazon Gift Card - Print - Happy Birthday (Birds)                           |Gift Card       |5          |0            |0          |N   |Y                |Perfect for most every occasion!                    |Perfect!  Nice & easy plus everyone loves them.  This is one gift you'll never have to return!         |2015-08-31 |\n",
            "|US         |22484620   |R3R8PHAVJFTPDF|B004LLIKVU|473048287     |Amazon.com eGift Cards                                                      |Gift Card       |5          |0            |0          |N   |Y                |Five Stars                                          |excelent                                                                                               |2015-08-31 |\n",
            "|US         |14765851   |R18WWEK8OIXE30|BT00CTP2EE|775486538     |Amazon.com Gift Card in a Greeting Card (Various Designs)                   |Gift Card       |5          |0            |0          |N   |Y                |Five Stars                                          |Great and Safe Gift Giving                                                                             |2015-08-31 |\n",
            "|US         |18751931   |R1EGUNQON2J277|B004LLIKVU|473048287     |Amazon.com eGift Cards                                                      |Gift Card       |1          |0            |0          |N   |Y                |One Star                                            |What?????????                                                                                          |2015-08-31 |\n",
            "|US         |15100528   |R21Z4M4L98CPU2|B004W8D102|595099956     |Amazon Gift Card - Print - Amazon Boxes                                     |Gift Card       |5          |0            |0          |N   |Y                |Five Stars                                          |This was just too easy~click & print!                                                                  |2015-08-31 |\n",
            "|US         |3559726    |R6JH7A117FHFA |B004LLIKVU|473048287     |Amazon.com eGift Cards                                                      |Gift Card       |5          |0            |0          |N   |Y                |Five Stars                                          |Bien                                                                                                   |2015-08-31 |\n",
            "|US         |23413911   |R1XZHS8M1GCGI7|B004KNWWU4|326384774     |Amazon Gift Card - Print - Happy Birthday (Birds)                           |Gift Card       |5          |1            |1          |N   |Y                |Always good                                         |Easy to print from email.  I love the variety of cards available for print on demand.                  |2015-08-31 |\n",
            "|US         |2026222    |R1DAI0N03SKRJN|B004LLIKVU|473048287     |Amazon.com eGift Cards                                                      |Gift Card       |5          |1            |1          |N   |Y                |Five Stars                                          |Amazing with 10 dollar                                                                                 |2015-08-31 |\n",
            "|US         |32956435   |R2F6SKZOEYQRU3|B004LLIKVU|473048287     |Amazon.com eGift Cards                                                      |Gift Card       |5          |0            |0          |N   |N                |Five Stars                                          |Remember Matthew 7:21                                                                                  |2015-08-31 |\n",
            "|US         |20241560   |RIBOP6OEAZA47 |B00H5BNLUS|637715957     |Amazon eGift Card - Hoops and Yoyo Thank You Very Much (Animated) [Hallmark]|Gift Card       |5          |1            |1          |N   |Y                |Five Stars                                          |good                                                                                                   |2015-08-31 |\n",
            "|US         |10670435   |R15H8E7WD6XD29|B004KNWX6C|763371347     |Amazon Gift Card - Print - Celebrate                                        |Gift Card       |5          |0            |0          |N   |Y                |Five Stars                                          |Awesome way to send a gift card!!                                                                      |2015-08-31 |\n",
            "|US         |48872127   |RVN4P3RU4F8IE |BT00CTOYC0|506740729     |Amazon.com $15 Gift Card in a Greeting Card (Amazon Surprise Box Design)    |Gift Card       |5          |0            |0          |N   |Y                |Quick Solution for Forgotten Occasion               |I love that I have instant, helpful options when I forget a birthday! Thanks for saving the day Amazon!|2015-08-31 |\n",
            "|US         |460630     |RCS8F9JCAAXC7 |B004LLIKVU|473048287     |Amazon.com eGift Cards                                                      |Gift Card       |4          |0            |0          |N   |Y                |Four Stars                                          |Good gift. Easy to use. Relatively instant.                                                            |2015-08-31 |\n",
            "|US         |41238378   |R6811C4E7UYL2 |B00H5BMH44|81025991      |Amazon eGift Card - Hoops and Yoyo Cake Face (Animated) [Hallmark]          |Gift Card       |5          |0            |0          |N   |Y                |Satisfied customer                                  |Satisfied as usual<br />Thanks Amazon                                                                  |2015-08-31 |\n",
            "|US         |14222739   |R196T0NZ73TYIM|B005ESMMKE|459536087     |Amazon.com Gift Cards, Pack of 10 (Various Card Designs)                    |Gift Card       |5          |1            |1          |N   |Y                |Five Stars                                          |nice                                                                                                   |2015-08-31 |\n",
            "+-----------+-----------+--------------+----------+--------------+----------------------------------------------------------------------------+----------------+-----------+-------------+-----------+----+-----------------+----------------------------------------------------+-------------------------------------------------------------------------------------------------------+-----------+\n",
            "only showing top 20 rows\n",
            "\n"
          ]
        }
      ]
    },
    {
      "cell_type": "code",
      "source": [
        "# Count the number of records (rows) in the dataset.\n",
        "df.count()"
      ],
      "metadata": {
        "id": "dGZcdrBeSeCv",
        "colab": {
          "base_uri": "https://localhost:8080/"
        },
        "outputId": "bde2c0e5-ea8b-4e6a-ae02-b9a8e433e30b"
      },
      "execution_count": 26,
      "outputs": [
        {
          "output_type": "execute_result",
          "data": {
            "text/plain": [
              "149086"
            ]
          },
          "metadata": {},
          "execution_count": 26
        }
      ]
    },
    {
      "cell_type": "code",
      "source": [
        "df.dtypes"
      ],
      "metadata": {
        "colab": {
          "base_uri": "https://localhost:8080/"
        },
        "id": "B-rMIv2xymgl",
        "outputId": "fc76d255-5ca9-4cf2-a713-8ef26b24b581"
      },
      "execution_count": 27,
      "outputs": [
        {
          "output_type": "execute_result",
          "data": {
            "text/plain": [
              "[('marketplace', 'string'),\n",
              " ('customer_id', 'string'),\n",
              " ('review_id', 'string'),\n",
              " ('product_id', 'string'),\n",
              " ('product_parent', 'string'),\n",
              " ('product_title', 'string'),\n",
              " ('product_category', 'string'),\n",
              " ('star_rating', 'string'),\n",
              " ('helpful_votes', 'string'),\n",
              " ('total_votes', 'string'),\n",
              " ('vine', 'string'),\n",
              " ('verified_purchase', 'string'),\n",
              " ('review_headline', 'string'),\n",
              " ('review_body', 'string'),\n",
              " ('review_date', 'string')]"
            ]
          },
          "metadata": {},
          "execution_count": 27
        }
      ]
    },
    {
      "cell_type": "code",
      "source": [
        "from pyspark.sql.functions import to_date"
      ],
      "metadata": {
        "id": "ISj1e-9w0BHe"
      },
      "execution_count": 28,
      "outputs": []
    },
    {
      "cell_type": "code",
      "source": [
        "df = df.withColumn('review_date',to_date(df.review_date, 'yyyy-mm-dd'))\n",
        "df = df.withColumn(\"customer_id\",df[\"customer_id\"].cast(IntegerType()))\n",
        "df = df.withColumn(\"product_parent\",df[\"product_parent\"].cast(IntegerType()))\n",
        "df = df.withColumn(\"star_rating\",df[\"star_rating\"].cast(IntegerType()))\n",
        "df = df.withColumn(\"helpful_votes\",df[\"helpful_votes\"].cast(IntegerType()))\n",
        "df = df.withColumn(\"total_votes\",df[\"total_votes\"].cast(IntegerType()))"
      ],
      "metadata": {
        "id": "Go6blgI-yuN2"
      },
      "execution_count": 29,
      "outputs": []
    },
    {
      "cell_type": "code",
      "source": [
        "df.dtypes"
      ],
      "metadata": {
        "colab": {
          "base_uri": "https://localhost:8080/"
        },
        "id": "asP6caNP0R6r",
        "outputId": "e906b5bd-8178-4351-d36a-10dd3e97701d"
      },
      "execution_count": 30,
      "outputs": [
        {
          "output_type": "execute_result",
          "data": {
            "text/plain": [
              "[('marketplace', 'string'),\n",
              " ('customer_id', 'int'),\n",
              " ('review_id', 'string'),\n",
              " ('product_id', 'string'),\n",
              " ('product_parent', 'int'),\n",
              " ('product_title', 'string'),\n",
              " ('product_category', 'string'),\n",
              " ('star_rating', 'int'),\n",
              " ('helpful_votes', 'int'),\n",
              " ('total_votes', 'int'),\n",
              " ('vine', 'string'),\n",
              " ('verified_purchase', 'string'),\n",
              " ('review_headline', 'string'),\n",
              " ('review_body', 'string'),\n",
              " ('review_date', 'date')]"
            ]
          },
          "metadata": {},
          "execution_count": 30
        }
      ]
    },
    {
      "cell_type": "code",
      "source": [
        "# **Transform** the dataset to fit the tables in the [schema file](../Resources/schema.sql). Be sure the DataFrames match in data type and in column name."
      ],
      "metadata": {
        "id": "eHINdpQ6Sd63"
      },
      "execution_count": 31,
      "outputs": []
    },
    {
      "cell_type": "code",
      "source": [
        "review_id_table = df.select(\"review_id\", \"customer_id\", \"product_id\",\"product_parent\",\"review_date\")\n",
        "review_id_table.show(5)"
      ],
      "metadata": {
        "id": "Byhms_NXxQQh",
        "colab": {
          "base_uri": "https://localhost:8080/"
        },
        "outputId": "3345a401-a821-48e3-f58b-f3855c15905e"
      },
      "execution_count": 32,
      "outputs": [
        {
          "output_type": "stream",
          "name": "stdout",
          "text": [
            "+--------------+-----------+----------+--------------+-----------+\n",
            "|     review_id|customer_id|product_id|product_parent|review_date|\n",
            "+--------------+-----------+----------+--------------+-----------+\n",
            "|R27ZP1F1CD0C3Y|   24371595|B004LLIL5A|     346014806| 2015-01-31|\n",
            "| RJ7RSBCHUDNNE|   42489718|B004LLIKVU|     473048287| 2015-01-31|\n",
            "|R1HVYBSKLQJI5S|     861463|B00IX1I3G6|     926539283| 2015-01-31|\n",
            "|R2HAXF0IIYQBIR|   25283295|B00IX1I3G6|     926539283| 2015-01-31|\n",
            "| RNYLPX611NB7Q|     397970|B005ESMGV4|     379368939| 2015-01-31|\n",
            "+--------------+-----------+----------+--------------+-----------+\n",
            "only showing top 5 rows\n",
            "\n"
          ]
        }
      ]
    },
    {
      "cell_type": "code",
      "source": [
        "products = df.select(\"product_id\",\"product_title\").dropDuplicates([\"product_id\"])\n",
        "products.show(5)"
      ],
      "metadata": {
        "id": "4WktXD2E0-I_",
        "colab": {
          "base_uri": "https://localhost:8080/"
        },
        "outputId": "a3060eec-fb02-4976-f6c9-4a0fef60a8a3"
      },
      "execution_count": 33,
      "outputs": [
        {
          "output_type": "stream",
          "name": "stdout",
          "text": [
            "+----------+--------------------+\n",
            "|product_id|       product_title|\n",
            "+----------+--------------------+\n",
            "|B0002CZPPG|Apple iTunes Prep...|\n",
            "|B000LGKQHU|Apple iTunes $25 ...|\n",
            "|B001GXRQW0|Amazon.com Gift C...|\n",
            "|B001H324JO|Amazon.com Gift C...|\n",
            "|B001H53QDK|Amazon.com Gift C...|\n",
            "+----------+--------------------+\n",
            "only showing top 5 rows\n",
            "\n"
          ]
        }
      ]
    },
    {
      "cell_type": "code",
      "source": [
        "customers= df.groupBy(\"customer_id\").count().withColumnRenamed(\"count\",\"customer_count\")\n",
        "customers.show(5)"
      ],
      "metadata": {
        "colab": {
          "base_uri": "https://localhost:8080/"
        },
        "id": "Selhp4AT11Oy",
        "outputId": "d8ddd87e-d81d-444a-928f-9e49f8b5f56a"
      },
      "execution_count": 34,
      "outputs": [
        {
          "output_type": "stream",
          "name": "stdout",
          "text": [
            "+-----------+--------------+\n",
            "|customer_id|customer_count|\n",
            "+-----------+--------------+\n",
            "|   12819130|             2|\n",
            "|   50079826|             2|\n",
            "|    3399669|             1|\n",
            "|   23344898|             1|\n",
            "|   42139031|             1|\n",
            "+-----------+--------------+\n",
            "only showing top 5 rows\n",
            "\n"
          ]
        }
      ]
    },
    {
      "cell_type": "code",
      "source": [
        "vine_table = df.select(\"review_id\", \"star_rating\", \"helpful_votes\",\"total_votes\",\"vine\")\n",
        "vine_table.show(5)"
      ],
      "metadata": {
        "id": "0sdMrHcyMQu_",
        "colab": {
          "base_uri": "https://localhost:8080/"
        },
        "outputId": "bebfa8aa-055d-4ef0-f02d-0d080469f73d"
      },
      "execution_count": 35,
      "outputs": [
        {
          "output_type": "stream",
          "name": "stdout",
          "text": [
            "+--------------+-----------+-------------+-----------+----+\n",
            "|     review_id|star_rating|helpful_votes|total_votes|vine|\n",
            "+--------------+-----------+-------------+-----------+----+\n",
            "|R27ZP1F1CD0C3Y|          5|            0|          0|   N|\n",
            "| RJ7RSBCHUDNNE|          5|            0|          0|   N|\n",
            "|R1HVYBSKLQJI5S|          5|            0|          0|   N|\n",
            "|R2HAXF0IIYQBIR|          1|            0|          0|   N|\n",
            "| RNYLPX611NB7Q|          5|            0|          0|   N|\n",
            "+--------------+-----------+-------------+-----------+----+\n",
            "only showing top 5 rows\n",
            "\n"
          ]
        }
      ]
    },
    {
      "cell_type": "code",
      "source": [
        "# **Load** the DataFrames that correspond to tables into an RDS instance. **Note:** This process can take up to 10 minutes for each. Be sure that everything is correct before uploading."
      ],
      "metadata": {
        "id": "bqQnes84Sdx4"
      },
      "execution_count": 36,
      "outputs": []
    },
    {
      "cell_type": "code",
      "source": [
        "# Configure settings for RDS\n",
        "mode = \"append\"\n",
        "jdbc_url=\"jdbc:<endpoint>:<port>/<db_name>\"\n",
        "config = {\"user\":\"<user>\", \n",
        "          \"password\": \"<pass>\", \n",
        "          \"driver\":\"org.postgresql.Driver\"}\n"
      ],
      "metadata": {
        "id": "wQNRx1Pu49rZ"
      },
      "execution_count": 37,
      "outputs": []
    },
    {
      "cell_type": "code",
      "source": [
        "review_id_table.write.jdbc(url=jdbc_url, table='review_id_table', mode=mode, properties=config)"
      ],
      "metadata": {
        "id": "uQZb41vG5ukL"
      },
      "execution_count": 38,
      "outputs": []
    },
    {
      "cell_type": "code",
      "source": [
        "products.write.jdbc(url=jdbc_url, table='products', mode=mode, properties=config)"
      ],
      "metadata": {
        "id": "OpBJDFF_HEEE"
      },
      "execution_count": 39,
      "outputs": []
    },
    {
      "cell_type": "code",
      "source": [
        "customers.write.jdbc(url=jdbc_url, table='customers', mode=mode, properties=config)"
      ],
      "metadata": {
        "id": "_4rsF2UwHQRz"
      },
      "execution_count": 40,
      "outputs": []
    },
    {
      "cell_type": "code",
      "source": [
        "vine_table.write.jdbc(url=jdbc_url, table='vine_table', mode=mode, properties=config)"
      ],
      "metadata": {
        "id": "JJ3iNBFhHQIb"
      },
      "execution_count": 41,
      "outputs": []
    },
    {
      "cell_type": "code",
      "source": [
        ""
      ],
      "metadata": {
        "id": "4B4LJARC0NzH"
      },
      "execution_count": null,
      "outputs": []
    }
  ]
}