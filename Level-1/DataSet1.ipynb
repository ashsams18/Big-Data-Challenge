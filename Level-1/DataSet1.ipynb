{
  "nbformat": 4,
  "nbformat_minor": 0,
  "metadata": {
    "colab": {
      "name": "DataSet1.ipynb",
      "provenance": [],
      "collapsed_sections": []
    },
    "kernelspec": {
      "name": "python3",
      "display_name": "Python 3"
    },
    "language_info": {
      "name": "python"
    }
  },
  "cells": [
    {
      "cell_type": "code",
      "execution_count": 1,
      "metadata": {
        "id": "tMx8ngBzITa0",
        "colab": {
          "base_uri": "https://localhost:8080/"
        },
        "outputId": "dbd832b0-8760-4037-f12d-82be8f1dc79f"
      },
      "outputs": [
        {
          "output_type": "stream",
          "name": "stdout",
          "text": [
            "Get:1 http://security.ubuntu.com/ubuntu bionic-security InRelease [88.7 kB]\n",
            "Get:2 https://cloud.r-project.org/bin/linux/ubuntu bionic-cran40/ InRelease [3,626 B]\n",
            "Ign:3 https://developer.download.nvidia.com/compute/cuda/repos/ubuntu1804/x86_64  InRelease\n",
            "Get:4 http://ppa.launchpad.net/c2d4u.team/c2d4u4.0+/ubuntu bionic InRelease [15.9 kB]\n",
            "Hit:5 http://archive.ubuntu.com/ubuntu bionic InRelease\n",
            "Ign:6 https://developer.download.nvidia.com/compute/machine-learning/repos/ubuntu1804/x86_64  InRelease\n",
            "Get:7 https://developer.download.nvidia.com/compute/cuda/repos/ubuntu1804/x86_64  Release [696 B]\n",
            "Hit:8 https://developer.download.nvidia.com/compute/machine-learning/repos/ubuntu1804/x86_64  Release\n",
            "Get:9 https://developer.download.nvidia.com/compute/cuda/repos/ubuntu1804/x86_64  Release.gpg [836 B]\n",
            "Get:10 http://archive.ubuntu.com/ubuntu bionic-updates InRelease [88.7 kB]\n",
            "Hit:11 http://ppa.launchpad.net/cran/libgit2/ubuntu bionic InRelease\n",
            "Get:12 http://archive.ubuntu.com/ubuntu bionic-backports InRelease [74.6 kB]\n",
            "Get:13 http://security.ubuntu.com/ubuntu bionic-security/universe amd64 Packages [1,452 kB]\n",
            "Get:14 http://ppa.launchpad.net/deadsnakes/ppa/ubuntu bionic InRelease [15.9 kB]\n",
            "Get:15 http://security.ubuntu.com/ubuntu bionic-security/restricted amd64 Packages [691 kB]\n",
            "Hit:16 http://ppa.launchpad.net/graphics-drivers/ppa/ubuntu bionic InRelease\n",
            "Get:17 http://security.ubuntu.com/ubuntu bionic-security/main amd64 Packages [2,461 kB]\n",
            "Get:18 https://cloud.r-project.org/bin/linux/ubuntu bionic-cran40/ Packages [73.9 kB]\n",
            "Get:20 https://developer.download.nvidia.com/compute/cuda/repos/ubuntu1804/x86_64  Packages [833 kB]\n",
            "Get:21 http://ppa.launchpad.net/c2d4u.team/c2d4u4.0+/ubuntu bionic/main Sources [1,821 kB]\n",
            "Get:22 http://archive.ubuntu.com/ubuntu bionic-updates/main amd64 Packages [2,898 kB]\n",
            "Get:23 http://ppa.launchpad.net/c2d4u.team/c2d4u4.0+/ubuntu bionic/main amd64 Packages [934 kB]\n",
            "Get:24 http://archive.ubuntu.com/ubuntu bionic-updates/universe amd64 Packages [2,230 kB]\n",
            "Get:25 http://archive.ubuntu.com/ubuntu bionic-backports/main amd64 Packages [11.6 kB]\n",
            "Get:26 http://archive.ubuntu.com/ubuntu bionic-backports/universe amd64 Packages [12.6 kB]\n",
            "Get:27 http://ppa.launchpad.net/deadsnakes/ppa/ubuntu bionic/main amd64 Packages [45.3 kB]\n",
            "Fetched 13.8 MB in 5s (2,686 kB/s)\n",
            "Reading package lists... Done\n"
          ]
        }
      ],
      "source": [
        "import os\n",
        "# Find the latest version of spark 3.0  from http://www.apache.org/dist/spark/ and enter as the spark version\n",
        "spark_version = 'spark-3.2.0'\n",
        "os.environ['SPARK_VERSION']=spark_version\n",
        "\n",
        "# Install Spark and Java\n",
        "!apt-get update\n",
        "!apt-get install openjdk-8-jdk-headless -qq > /dev/null\n",
        "!wget -q http://www.apache.org/dist/spark/$SPARK_VERSION/$SPARK_VERSION-bin-hadoop2.7.tgz\n",
        "!tar xf $SPARK_VERSION-bin-hadoop2.7.tgz\n",
        "!pip install -q findspark\n",
        "\n",
        "# Set Environment Variables\n",
        "os.environ[\"JAVA_HOME\"] = \"/usr/lib/jvm/java-8-openjdk-amd64\"\n",
        "os.environ[\"SPARK_HOME\"] = f\"/content/{spark_version}-bin-hadoop2.7\"\n",
        "\n",
        "# Start a SparkSession\n",
        "import findspark\n",
        "findspark.init()"
      ]
    },
    {
      "cell_type": "code",
      "source": [
        "# connection to Postgres \n",
        "!wget https://jdbc.postgresql.org/download/postgresql-42.2.9.jar"
      ],
      "metadata": {
        "id": "xLrbn0d8NAbV",
        "colab": {
          "base_uri": "https://localhost:8080/"
        },
        "outputId": "28203cd8-08bf-48da-c857-190a6abda16e"
      },
      "execution_count": 2,
      "outputs": [
        {
          "output_type": "stream",
          "name": "stdout",
          "text": [
            "--2021-12-26 00:50:34--  https://jdbc.postgresql.org/download/postgresql-42.2.9.jar\n",
            "Resolving jdbc.postgresql.org (jdbc.postgresql.org)... 72.32.157.228, 2001:4800:3e1:1::228\n",
            "Connecting to jdbc.postgresql.org (jdbc.postgresql.org)|72.32.157.228|:443... connected.\n",
            "HTTP request sent, awaiting response... 200 OK\n",
            "Length: 914037 (893K) [application/java-archive]\n",
            "Saving to: ‘postgresql-42.2.9.jar’\n",
            "\n",
            "postgresql-42.2.9.j 100%[===================>] 892.61K  --.-KB/s    in 0.1s    \n",
            "\n",
            "2021-12-26 00:50:35 (5.99 MB/s) - ‘postgresql-42.2.9.jar’ saved [914037/914037]\n",
            "\n"
          ]
        }
      ]
    },
    {
      "cell_type": "code",
      "source": [
        "from pyspark.sql import SparkSession\n",
        "spark = SparkSession.builder.appName(\"CloudETL\").config(\"spark.driver.extraClassPath\",\"/content/postgresql-42.2.9.jar\").getOrCreate()\n",
        "\n",
        "from pyspark.ml.feature import RegexTokenizer, Tokenizer\n",
        "from pyspark.sql import functions as F\n",
        "from pyspark.sql.functions import col, udf\n",
        "from pyspark.sql.types import IntegerType"
      ],
      "metadata": {
        "id": "7STzitKnRti4"
      },
      "execution_count": 3,
      "outputs": []
    },
    {
      "cell_type": "code",
      "source": [
        "# Read in data from S3 Buckets\n",
        "from pyspark import SparkFiles\n",
        "url =\"https://s3.amazonaws.com/amazon-reviews-pds/tsv/amazon_reviews_us_Luggage_v1_00.tsv.gz\"\n",
        "spark.sparkContext.addFile(url)\n",
        "df = spark.read.csv(SparkFiles.get(\"amazon_reviews_us_Luggage_v1_00.tsv.gz\"), sep=\"\\t\", header=True)\n",
        "\n",
        "# Show DataFrame\n",
        "df.show(truncate=False)"
      ],
      "metadata": {
        "id": "vedfll5wRtUw",
        "colab": {
          "base_uri": "https://localhost:8080/"
        },
        "outputId": "a8a9b8b4-24ec-4f82-d99a-602e2b510f6a"
      },
      "execution_count": 4,
      "outputs": [
        {
          "output_type": "stream",
          "name": "stdout",
          "text": [
            "+-----------+-----------+--------------+----------+--------------+----------------------------------------------------------------------------------------------------------------------------------------------------------------------+----------------+-----------+-------------+-----------+----+-----------------+----------------------------------------------------------------+--------------------------------------------------------------------------------------------------------------------------------------------------------------------------------------------------------------------------------------------------------------------------------------------------------------------------------------------------------------------------------------------------------------------------------------------------------------------------------------------------------------------------------------------------------------------------------------------------------------------------------------------------------------------------------------------------------------------------------------------------------------------------------------------------------------------------------------------------------------------------------------------------------------------------------------------------------------------------------------------------------------------------------------------------------------------------------------------------------------------------------------------------------------------------------------------------------------------------------------------------------------------------------------------------------------------------------------------------------------------------------------------------------------------------------------------------------------------------------------------------------------------------------------------------------------------------------------------------------------------------------------------------------------------------------------------------------------------------------------------------------------------------------------------------------------------------------------------------------------------------------------------------------------------------------------------------------------------------------------------------------------------------+-----------+\n",
            "|marketplace|customer_id|review_id     |product_id|product_parent|product_title                                                                                                                                                         |product_category|star_rating|helpful_votes|total_votes|vine|verified_purchase|review_headline                                                 |review_body                                                                                                                                                                                                                                                                                                                                                                                                                                                                                                                                                                                                                                                                                                                                                                                                                                                                                                                                                                                                                                                                                                                                                                                                                                                                                                                                                                                                                                                                                                                                                                                                                                                                                                                                                                                                                                                                                                                                                                                                               |review_date|\n",
            "+-----------+-----------+--------------+----------+--------------+----------------------------------------------------------------------------------------------------------------------------------------------------------------------+----------------+-----------+-------------+-----------+----+-----------------+----------------------------------------------------------------+--------------------------------------------------------------------------------------------------------------------------------------------------------------------------------------------------------------------------------------------------------------------------------------------------------------------------------------------------------------------------------------------------------------------------------------------------------------------------------------------------------------------------------------------------------------------------------------------------------------------------------------------------------------------------------------------------------------------------------------------------------------------------------------------------------------------------------------------------------------------------------------------------------------------------------------------------------------------------------------------------------------------------------------------------------------------------------------------------------------------------------------------------------------------------------------------------------------------------------------------------------------------------------------------------------------------------------------------------------------------------------------------------------------------------------------------------------------------------------------------------------------------------------------------------------------------------------------------------------------------------------------------------------------------------------------------------------------------------------------------------------------------------------------------------------------------------------------------------------------------------------------------------------------------------------------------------------------------------------------------------------------------------+-----------+\n",
            "|US         |40884699   |R9CO86UUJCAW5 |B00VGTN02Y|786681372     |Teenage Mutant Ninja Turtle Boys' Teenage Mutant Ninja Turtles Backpack                                                                                               |Luggage         |3          |0            |0          |N   |Y                |my review of this product was in error. It ...                  |my review of this product was in error. It was for a previous product. This lunchbox is cute, but cheaply made. It is quite roomy and suffices for now. I hope it will last the year.                                                                                                                                                                                                                                                                                                                                                                                                                                                                                                                                                                                                                                                                                                                                                                                                                                                                                                                                                                                                                                                                                                                                                                                                                                                                                                                                                                                                                                                                                                                                                                                                                                                                                                                                                                                                                                     |2015-08-31 |\n",
            "|US         |23208852   |R3PR8X6QGVJ8B1|B005KIWL0E|618251799     |Kenneth Cole Reaction Out of Bounds 20\"  4 Wheel Upright                                                                                                              |Luggage         |5          |0            |0          |N   |Y                |Five Stars                                                      |Perfect size.                                                                                                                                                                                                                                                                                                                                                                                                                                                                                                                                                                                                                                                                                                                                                                                                                                                                                                                                                                                                                                                                                                                                                                                                                                                                                                                                                                                                                                                                                                                                                                                                                                                                                                                                                                                                                                                                                                                                                                                                             |2015-08-31 |\n",
            "|US         |17100246   |R39BO2819ABUPF|B007UNSHJ6|810480328     |American Tourister Luggage AT Pop 3 Piece Spinner Set, Black, 29/25/21                                                                                                |Luggage         |4          |0            |0          |N   |Y                |so good.                                                        |So far, so good.                                                                                                                                                                                                                                                                                                                                                                                                                                                                                                                                                                                                                                                                                                                                                                                                                                                                                                                                                                                                                                                                                                                                                                                                                                                                                                                                                                                                                                                                                                                                                                                                                                                                                                                                                                                                                                                                                                                                                                                                          |2015-08-31 |\n",
            "|US         |13533670   |R3ADL7V6EGGEEP|B00WHFNXB4|20765193      |15.5 Inch Purple Butterfly Design Student Backpack School Book Bag for Girls                                                                                          |Luggage         |4          |0            |0          |N   |Y                |Four Stars                                                      |seems nicely made and my daughter likes it. It's hard to find a good back pack for a kindergartener                                                                                                                                                                                                                                                                                                                                                                                                                                                                                                                                                                                                                                                                                                                                                                                                                                                                                                                                                                                                                                                                                                                                                                                                                                                                                                                                                                                                                                                                                                                                                                                                                                                                                                                                                                                                                                                                                                                       |2015-08-31 |\n",
            "|US         |38541771   |R1OXYPBPLVRMI5|B000M5NBYU|812890709     |Port & Company Zippered Pocket Shoulder Strap Gym Bag                                                                                                                 |Luggage         |5          |0            |0          |N   |Y                |Dance Bag                                                       |Great bag for all of my daughter's dance gear.                                                                                                                                                                                                                                                                                                                                                                                                                                                                                                                                                                                                                                                                                                                                                                                                                                                                                                                                                                                                                                                                                                                                                                                                                                                                                                                                                                                                                                                                                                                                                                                                                                                                                                                                                                                                                                                                                                                                                                            |2015-08-31 |\n",
            "|US         |12686499   |R1WYM8Z5ATQ98O|B00ACBJ89G|624906499     |J World New York Lollipop Kids' Rolling Backpack with Lunch Bag                                                                                                       |Luggage         |3          |0            |0          |N   |Y                |TOO SMALL!!!                                                    |it´s nice BUT it´s too small, maybe you need to specific about it´s for toddlers kids, definitely NOT for elementary school purpose.                                                                                                                                                                                                                                                                                                                                                                                                                                                                                                                                                                                                                                                                                                                                                                                                                                                                                                                                                                                                                                                                                                                                                                                                                                                                                                                                                                                                                                                                                                                                                                                                                                                                                                                                                                                                                                                                                      |2015-08-31 |\n",
            "|US         |27767206   |R3LCIANTN1H9EC|B001H4BQ1A|385044506     |Voltage Valet Clothes Steamer                                                                                                                                         |Luggage         |4          |1            |1          |N   |Y                |Four Stars                                                      |It does the job but I wish the amount of steam was stronger and more                                                                                                                                                                                                                                                                                                                                                                                                                                                                                                                                                                                                                                                                                                                                                                                                                                                                                                                                                                                                                                                                                                                                                                                                                                                                                                                                                                                                                                                                                                                                                                                                                                                                                                                                                                                                                                                                                                                                                      |2015-08-31 |\n",
            "|US         |46630606   |R3U2M23N1P0KQ6|B00ESG6NDK|51297652      |Pro Packing Cubes - 4 Piece Lightweight Travel Packing Cubes Set - Organizers and Compression Pouches System for Carry-on Luggage Accesories, Suitcase and Backpacking|Luggage         |5          |0            |0          |N   |Y                |Five Stars                                                      |Just fine.                                                                                                                                                                                                                                                                                                                                                                                                                                                                                                                                                                                                                                                                                                                                                                                                                                                                                                                                                                                                                                                                                                                                                                                                                                                                                                                                                                                                                                                                                                                                                                                                                                                                                                                                                                                                                                                                                                                                                                                                                |2015-08-31 |\n",
            "|US         |41622754   |R29MB6N7HB6NZI|B00M14SAXC|832113872     |Girl's Dance Duffle Bag                                                                                                                                               |Luggage         |1          |2            |2          |N   |Y                |We were exited to get this cute bag, but ...                    |We were exited to get this cute bag, but when it arrived, it came with a broken zipper, so we had to return it!                                                                                                                                                                                                                                                                                                                                                                                                                                                                                                                                                                                                                                                                                                                                                                                                                                                                                                                                                                                                                                                                                                                                                                                                                                                                                                                                                                                                                                                                                                                                                                                                                                                                                                                                                                                                                                                                                                           |2015-08-31 |\n",
            "|US         |15296380   |RGEQ6DGRG7DQG |B012PC5QAY|490793867     |Disney Inside Out Deluxe 3D Embossed Insulated Lunch Box                                                                                                              |Luggage         |5          |0            |0          |N   |Y                |cute!                                                           |Very nice and we'll made lunch bag. Was larger than I expected.  Has a small mesh pouch on the side that does not fit a water bottle.  Maybe silverware? Very cute.                                                                                                                                                                                                                                                                                                                                                                                                                                                                                                                                                                                                                                                                                                                                                                                                                                                                                                                                                                                                                                                                                                                                                                                                                                                                                                                                                                                                                                                                                                                                                                                                                                                                                                                                                                                                                                                       |2015-08-31 |\n",
            "|US         |21206415   |R38HNH0BSS2KFE|B00VWKWWMG|356411837     |World Traveler 13.5 Inch Beach Bag                                                                                                                                    |Luggage         |1          |1            |1          |N   |Y                |One Star                                                        |Brought it on vacation for a week and one of the straps is already tearing.                                                                                                                                                                                                                                                                                                                                                                                                                                                                                                                                                                                                                                                                                                                                                                                                                                                                                                                                                                                                                                                                                                                                                                                                                                                                                                                                                                                                                                                                                                                                                                                                                                                                                                                                                                                                                                                                                                                                               |2015-08-31 |\n",
            "|US         |34554097   |R2CATRM9CH59LY|B00N2U14UK|326835930     |Sherpani Trevia Cross Body Tote                                                                                                                                       |Luggage         |5          |4            |4          |N   |Y                |A great bag for travel!                                         |I purchased this bag for a trip to Europe, and it worked splendidly. I specifically wanted a cross-body bag for security that also had carry handles and a front zipped pocket for easy access to my phone.  This bag is really nice looking, sturdy and yet lightweight enough to be carried all day. The interior pockets were great for passports and sun glasses and the main pocket was big enough to hold multiple items including a water bottle. I used the small magnetic closing pocket on the front for lotion, makeup and tissues, and the back slip pocket was great for museum and train tickets.  This has definitely become my favorite travel bag. Very highly recommended!                                                                                                                                                                                                                                                                                                                                                                                                                                                                                                                                                                                                                                                                                                                                                                                                                                                                                                                                                                                                                                                                                                                                                                                                                                                                                                                              |2015-08-31 |\n",
            "|US         |42252567   |R18DMKNDPJ1BSN|B00K4F45CA|954517686     |Rockland Luggage 2 Piece Set                                                                                                                                          |Luggage         |5          |0            |1          |N   |Y                |Perfect                                                         |Love this light weight luggage.  The size is acceptable for international travel.                                                                                                                                                                                                                                                                                                                                                                                                                                                                                                                                                                                                                                                                                                                                                                                                                                                                                                                                                                                                                                                                                                                                                                                                                                                                                                                                                                                                                                                                                                                                                                                                                                                                                                                                                                                                                                                                                                                                         |2015-08-31 |\n",
            "|US         |3532342    |RZRSHBWXO3XUQ |B00U57FFA8|98867907      |Allant 16\" Padded Laptop Backpack/School Travel Bag AL-1309- Black-Navy-Grey                                                                                          |Luggage         |5          |0            |0          |N   |Y                |it's durable and spacious I will recommend this                 |Purchased this backpack already this is the second one, it's durable and spacious I will recommend this product                                                                                                                                                                                                                                                                                                                                                                                                                                                                                                                                                                                                                                                                                                                                                                                                                                                                                                                                                                                                                                                                                                                                                                                                                                                                                                                                                                                                                                                                                                                                                                                                                                                                                                                                                                                                                                                                                                           |2015-08-31 |\n",
            "|US         |7791634    |R1BMTNSYCZY1NI|B00ROSRFQ8|648371973     |Polare Manly Real Thick Cowhide Leather Weekender Travel Gym Duffel Bag                                                                                               |Luggage         |3          |1            |1          |N   |Y                |Strong well-made leather bag, but poor choice of pockets clasps.|I've had this bag for a couple of weeks now and just took it on my first weekend away.<br />Firstly, the good: the leather is excellent quality full grain oiled leather that looks like it will last a lifetime of knocks.  The stitching, workmanship and hardware all appear to be good quality.  It's not a huge bag, but big enough for a weekend if you travel light.  Fits easily into plane overhead lockers.<br />The neutral:  the buckles for access into the main compartment are strong and will definitely last longer than any zipper would.  However they don't provide easy access into the body of the bag if you need something quickly and obviously don't completely seal the bag from the outside as a zipper would.<br />The bad:  the magnetic clasps on the outside pockets. The clasps are not at all secure and readily unfasten when you don't want them to.  They will unfasten when the bag brushes against anything like a chair, armrest or other luggage in the overhead compartment, or even when it tangles with its own shoulder strap.  This is a concern when you have items like a passport or mobile phone in the outside pockets, which is where you'll want to carry them given the slow access into the main compartment of the bag.<br />The magnetic clasps also make the buckles on the pockets redundant.  You'll simply never use the buckles when you have easy-to-open magnetic clasps, so the buckles become obsolete hardware adding weight to what is already quite a heavy bag.<br />I'd actually prefer just buckles on the pockets, which, although slower to use, would be much more secure and wouldn't require you to constantly check that items haven't accidentally fallen out of the pockets.<br />All in all, I feel this is a missed opportunity to make a truly excellent bag fit for a lifetime of hard knocks.  The leather is strong and it seems to be well manufactured, but the choice of soft magnetic clasps makes the outside pockets insecure.|2015-08-31 |\n",
            "|US         |9911099    |RPE2S0HZQ9EFP |B003ZV71BM|406795103     |American Flyer Luggage Animal Print 5 Piece Spinner Set                                                                                                               |Luggage         |5          |0            |0          |N   |Y                |Five Stars                                                      |Love love love my giraffe luggage! It has gone everywhere with me and no issues at all!                                                                                                                                                                                                                                                                                                                                                                                                                                                                                                                                                                                                                                                                                                                                                                                                                                                                                                                                                                                                                                                                                                                                                                                                                                                                                                                                                                                                                                                                                                                                                                                                                                                                                                                                                                                                                                                                                                                                   |2015-08-31 |\n",
            "|US         |46124918   |R2OOWJSFPDDA03|B00NJYB2JM|255715129     |Victoriatourist V3002 Vertical Messenger Bag for iPad-mini and Tablets Upto 8.1-Inch                                                                                  |Luggage         |3          |0            |1          |N   |Y                |Three Stars                                                     |Smaller than expected.                                                                                                                                                                                                                                                                                                                                                                                                                                                                                                                                                                                                                                                                                                                                                                                                                                                                                                                                                                                                                                                                                                                                                                                                                                                                                                                                                                                                                                                                                                                                                                                                                                                                                                                                                                                                                                                                                                                                                                                                    |2015-08-31 |\n",
            "|US         |200537     |R3EED64ZPXGZ92|B00LD0A4N4|244117760     |EcoCity Vintage Canvas Backpack Rucksack Casual Daypacks Bookbags                                                                                                     |Luggage         |3          |0            |0          |N   |Y                |Three Stars                                                     |Within the first three days of using the class, the button holding one of the top straps broke off.                                                                                                                                                                                                                                                                                                                                                                                                                                                                                                                                                                                                                                                                                                                                                                                                                                                                                                                                                                                                                                                                                                                                                                                                                                                                                                                                                                                                                                                                                                                                                                                                                                                                                                                                                                                                                                                                                                                       |2015-08-31 |\n",
            "|US         |1403856    |R1BI8NF6YRH5HD|B00N5GVF6O|626808161     |Bolang Water Resistant Travel Casual Daypacks College School Laptop Backpack                                                                                          |Luggage         |5          |0            |0          |N   |Y                |Laptop backpack                                                 |Nice nice sturdy bag. I really like it. Plenty of pockets for all sorts of storage .I lov the color ~just not black .I would recommend this bag !                                                                                                                                                                                                                                                                                                                                                                                                                                                                                                                                                                                                                                                                                                                                                                                                                                                                                                                                                                                                                                                                                                                                                                                                                                                                                                                                                                                                                                                                                                                                                                                                                                                                                                                                                                                                                                                                         |2015-08-31 |\n",
            "|US         |8201781    |RUD7SDRQTAVMC |B00C75KZPQ|176437087     |Travelon Cosmetic Organizer/Travel Case                                                                                                                               |Luggage         |5          |0            |0          |N   |Y                |Fabulous!                                                       |Fabulous! Can use as overnight bag too. Lots of zip compartments and plenty of space. Looks good too.                                                                                                                                                                                                                                                                                                                                                                                                                                                                                                                                                                                                                                                                                                                                                                                                                                                                                                                                                                                                                                                                                                                                                                                                                                                                                                                                                                                                                                                                                                                                                                                                                                                                                                                                                                                                                                                                                                                     |2015-08-31 |\n",
            "+-----------+-----------+--------------+----------+--------------+----------------------------------------------------------------------------------------------------------------------------------------------------------------------+----------------+-----------+-------------+-----------+----+-----------------+----------------------------------------------------------------+--------------------------------------------------------------------------------------------------------------------------------------------------------------------------------------------------------------------------------------------------------------------------------------------------------------------------------------------------------------------------------------------------------------------------------------------------------------------------------------------------------------------------------------------------------------------------------------------------------------------------------------------------------------------------------------------------------------------------------------------------------------------------------------------------------------------------------------------------------------------------------------------------------------------------------------------------------------------------------------------------------------------------------------------------------------------------------------------------------------------------------------------------------------------------------------------------------------------------------------------------------------------------------------------------------------------------------------------------------------------------------------------------------------------------------------------------------------------------------------------------------------------------------------------------------------------------------------------------------------------------------------------------------------------------------------------------------------------------------------------------------------------------------------------------------------------------------------------------------------------------------------------------------------------------------------------------------------------------------------------------------------------------+-----------+\n",
            "only showing top 20 rows\n",
            "\n"
          ]
        }
      ]
    },
    {
      "cell_type": "code",
      "source": [
        "# Count the number of records (rows) in the dataset.\n",
        "df.count()"
      ],
      "metadata": {
        "id": "awXgOld-RtIZ",
        "colab": {
          "base_uri": "https://localhost:8080/"
        },
        "outputId": "9943c3c4-331f-4306-f5e9-565927b495a0"
      },
      "execution_count": 5,
      "outputs": [
        {
          "output_type": "execute_result",
          "data": {
            "text/plain": [
              "348657"
            ]
          },
          "metadata": {},
          "execution_count": 5
        }
      ]
    },
    {
      "cell_type": "code",
      "source": [
        "df.dtypes"
      ],
      "metadata": {
        "colab": {
          "base_uri": "https://localhost:8080/"
        },
        "id": "rsZTYqO488iF",
        "outputId": "7bbdbe43-16ad-4208-bcfe-8fe0a78f1a47"
      },
      "execution_count": 6,
      "outputs": [
        {
          "output_type": "execute_result",
          "data": {
            "text/plain": [
              "[('marketplace', 'string'),\n",
              " ('customer_id', 'string'),\n",
              " ('review_id', 'string'),\n",
              " ('product_id', 'string'),\n",
              " ('product_parent', 'string'),\n",
              " ('product_title', 'string'),\n",
              " ('product_category', 'string'),\n",
              " ('star_rating', 'string'),\n",
              " ('helpful_votes', 'string'),\n",
              " ('total_votes', 'string'),\n",
              " ('vine', 'string'),\n",
              " ('verified_purchase', 'string'),\n",
              " ('review_headline', 'string'),\n",
              " ('review_body', 'string'),\n",
              " ('review_date', 'string')]"
            ]
          },
          "metadata": {},
          "execution_count": 6
        }
      ]
    },
    {
      "cell_type": "code",
      "source": [
        "from pyspark.sql.functions import to_date"
      ],
      "metadata": {
        "id": "jJowZEJ58-zm"
      },
      "execution_count": 7,
      "outputs": []
    },
    {
      "cell_type": "code",
      "source": [
        "df = df.withColumn('review_date',to_date(df.review_date, 'yyyy-mm-dd'))\n",
        "df = df.withColumn(\"customer_id\",df[\"customer_id\"].cast(IntegerType()))\n",
        "df = df.withColumn(\"product_parent\",df[\"product_parent\"].cast(IntegerType()))\n",
        "df = df.withColumn(\"star_rating\",df[\"star_rating\"].cast(IntegerType()))\n",
        "df = df.withColumn(\"helpful_votes\",df[\"helpful_votes\"].cast(IntegerType()))\n",
        "df = df.withColumn(\"total_votes\",df[\"total_votes\"].cast(IntegerType()))"
      ],
      "metadata": {
        "id": "ZoRTkEmq9UY1"
      },
      "execution_count": 8,
      "outputs": []
    },
    {
      "cell_type": "code",
      "source": [
        "df.dtypes"
      ],
      "metadata": {
        "colab": {
          "base_uri": "https://localhost:8080/"
        },
        "id": "_0cDLrsA9BE0",
        "outputId": "6dbe3410-949f-45e1-d445-cdc15f52739d"
      },
      "execution_count": 9,
      "outputs": [
        {
          "output_type": "execute_result",
          "data": {
            "text/plain": [
              "[('marketplace', 'string'),\n",
              " ('customer_id', 'int'),\n",
              " ('review_id', 'string'),\n",
              " ('product_id', 'string'),\n",
              " ('product_parent', 'int'),\n",
              " ('product_title', 'string'),\n",
              " ('product_category', 'string'),\n",
              " ('star_rating', 'int'),\n",
              " ('helpful_votes', 'int'),\n",
              " ('total_votes', 'int'),\n",
              " ('vine', 'string'),\n",
              " ('verified_purchase', 'string'),\n",
              " ('review_headline', 'string'),\n",
              " ('review_body', 'string'),\n",
              " ('review_date', 'date')]"
            ]
          },
          "metadata": {},
          "execution_count": 9
        }
      ]
    },
    {
      "cell_type": "code",
      "source": [
        "# **Transform** the dataset to fit the tables in the [schema file](../Resources/schema.sql). Be sure the DataFrames match in data type and in column name."
      ],
      "metadata": {
        "id": "Jzdvv4omSqgP"
      },
      "execution_count": 10,
      "outputs": []
    },
    {
      "cell_type": "code",
      "source": [
        "review_id_table = df.select(\"review_id\", \"customer_id\", \"product_id\",\"product_parent\",\"review_date\")\n",
        "review_id_table.show(5)"
      ],
      "metadata": {
        "colab": {
          "base_uri": "https://localhost:8080/"
        },
        "id": "aCbHG3xi9Dd8",
        "outputId": "501d40a7-56ac-4b78-f0d5-ac8dfcec304f"
      },
      "execution_count": 11,
      "outputs": [
        {
          "output_type": "stream",
          "name": "stdout",
          "text": [
            "+--------------+-----------+----------+--------------+-----------+\n",
            "|     review_id|customer_id|product_id|product_parent|review_date|\n",
            "+--------------+-----------+----------+--------------+-----------+\n",
            "| R9CO86UUJCAW5|   40884699|B00VGTN02Y|     786681372| 2015-01-31|\n",
            "|R3PR8X6QGVJ8B1|   23208852|B005KIWL0E|     618251799| 2015-01-31|\n",
            "|R39BO2819ABUPF|   17100246|B007UNSHJ6|     810480328| 2015-01-31|\n",
            "|R3ADL7V6EGGEEP|   13533670|B00WHFNXB4|      20765193| 2015-01-31|\n",
            "|R1OXYPBPLVRMI5|   38541771|B000M5NBYU|     812890709| 2015-01-31|\n",
            "+--------------+-----------+----------+--------------+-----------+\n",
            "only showing top 5 rows\n",
            "\n"
          ]
        }
      ]
    },
    {
      "cell_type": "code",
      "source": [
        "products = df.select(\"product_id\",\"product_title\").dropDuplicates([\"product_id\"])\n",
        "products.show(5)"
      ],
      "metadata": {
        "colab": {
          "base_uri": "https://localhost:8080/"
        },
        "id": "0ExmuEHw9Fbc",
        "outputId": "04e4beb7-40da-4221-9f00-e952ee292ac7"
      },
      "execution_count": 12,
      "outputs": [
        {
          "output_type": "stream",
          "name": "stdout",
          "text": [
            "+----------+--------------------+\n",
            "|product_id|       product_title|\n",
            "+----------+--------------------+\n",
            "|1933438304|Penguin Tote: I'd...|\n",
            "|3924862206|Kukishinden Ryû (...|\n",
            "|8862938861|Moleskine Luggage...|\n",
            "|886293887X|Moleskine 3.75x2....|\n",
            "|8866138274|Moleskine Luggage...|\n",
            "+----------+--------------------+\n",
            "only showing top 5 rows\n",
            "\n"
          ]
        }
      ]
    },
    {
      "cell_type": "code",
      "source": [
        "customers= df.groupBy(\"customer_id\").count().withColumnRenamed(\"count\",\"customer_count\")\n",
        "customers.show(5)"
      ],
      "metadata": {
        "colab": {
          "base_uri": "https://localhost:8080/"
        },
        "id": "NzxfXcdp9G9U",
        "outputId": "ecbfe2c3-deaa-442d-91bb-ed09323b5c79"
      },
      "execution_count": 13,
      "outputs": [
        {
          "output_type": "stream",
          "name": "stdout",
          "text": [
            "+-----------+--------------+\n",
            "|customer_id|customer_count|\n",
            "+-----------+--------------+\n",
            "|   42596797|             1|\n",
            "|   12296525|             1|\n",
            "|   49101505|             1|\n",
            "|   28377689|             1|\n",
            "|   14468845|             1|\n",
            "+-----------+--------------+\n",
            "only showing top 5 rows\n",
            "\n"
          ]
        }
      ]
    },
    {
      "cell_type": "code",
      "source": [
        "vine_table = df.select(\"review_id\", \"star_rating\", \"helpful_votes\",\"total_votes\",\"vine\")\n",
        "vine_table.show(5)"
      ],
      "metadata": {
        "colab": {
          "base_uri": "https://localhost:8080/"
        },
        "id": "1XjxBOhfFe-m",
        "outputId": "18184539-1cf1-4c3a-f41d-87097dc5c3bf"
      },
      "execution_count": 14,
      "outputs": [
        {
          "output_type": "stream",
          "name": "stdout",
          "text": [
            "+--------------+-----------+-------------+-----------+----+\n",
            "|     review_id|star_rating|helpful_votes|total_votes|vine|\n",
            "+--------------+-----------+-------------+-----------+----+\n",
            "| R9CO86UUJCAW5|          3|            0|          0|   N|\n",
            "|R3PR8X6QGVJ8B1|          5|            0|          0|   N|\n",
            "|R39BO2819ABUPF|          4|            0|          0|   N|\n",
            "|R3ADL7V6EGGEEP|          4|            0|          0|   N|\n",
            "|R1OXYPBPLVRMI5|          5|            0|          0|   N|\n",
            "+--------------+-----------+-------------+-----------+----+\n",
            "only showing top 5 rows\n",
            "\n"
          ]
        }
      ]
    },
    {
      "cell_type": "code",
      "source": [
        "# **Load** the DataFrames that correspond to tables into an RDS instance. **Note:** This process can take up to 10 minutes for each. Be sure that everything is correct before uploading."
      ],
      "metadata": {
        "id": "Shq34Y8mSqZw"
      },
      "execution_count": 15,
      "outputs": []
    },
    {
      "cell_type": "code",
      "source": [
        "mode = \"append\"\n",
        "jdbc_url=\"jdbc:postgresql://mypostgresdb.ce0naysny4ho.eu-west-2.rds.amazonaws.com:5432/big_data\"\n",
        "config = {\"user\":\"postgres\", \n",
        "          \"password\": \"postgres\", \n",
        "          \"driver\":\"org.postgresql.Driver\"}\n"
      ],
      "metadata": {
        "id": "XmpX94ep7Nju"
      },
      "execution_count": 16,
      "outputs": []
    },
    {
      "cell_type": "code",
      "source": [
        "review_id_table.write.jdbc(url=jdbc_url, table='review_id_table', mode=mode, properties=config)"
      ],
      "metadata": {
        "id": "xvIlQsBg7UWg"
      },
      "execution_count": 17,
      "outputs": []
    },
    {
      "cell_type": "code",
      "source": [
        "products.write.jdbc(url=jdbc_url, table='products', mode=mode, properties=config)"
      ],
      "metadata": {
        "id": "qoSkzyn-7Wvk"
      },
      "execution_count": 18,
      "outputs": []
    },
    {
      "cell_type": "code",
      "source": [
        "customers.write.jdbc(url=jdbc_url, table='customers', mode=mode, properties=config)"
      ],
      "metadata": {
        "id": "_NeVx3fg7ZLN"
      },
      "execution_count": 19,
      "outputs": []
    },
    {
      "cell_type": "code",
      "source": [
        "vine_table.write.jdbc(url=jdbc_url, table='vine_table', mode=mode, properties=config)"
      ],
      "metadata": {
        "id": "994ol7CBHIa1"
      },
      "execution_count": 20,
      "outputs": []
    },
    {
      "cell_type": "code",
      "source": [
        ""
      ],
      "metadata": {
        "id": "5bEoT6R3PZGV"
      },
      "execution_count": null,
      "outputs": []
    }
  ]
}